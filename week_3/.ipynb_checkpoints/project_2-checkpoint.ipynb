{
 "cells": [
  {
   "cell_type": "code",
   "execution_count": 1,
   "id": "274d5443-6062-4c09-8475-aa3b43a9f432",
   "metadata": {},
   "outputs": [
    {
     "name": "stdin",
     "output_type": "stream",
     "text": [
      "Enter years of experience:  2\n",
      "Enter age:  26\n"
     ]
    },
    {
     "name": "stdout",
     "output_type": "stream",
     "text": [
      "The Annual Tax Revenue (ATR) is: N550,000\n"
     ]
    }
   ],
   "source": [
    "def calculate_atr(experience, age):\n",
    "    if experience > 25 and age >= 55:\n",
    "        return 5600000\n",
    "    elif experience > 20 and age >= 45:\n",
    "        return 4480000\n",
    "    elif experience > 10 and age >= 35:\n",
    "        return 1500000\n",
    "    else:\n",
    "        return 550000\n",
    "\n",
    "# Get user input\n",
    "experience = int(input(\"Enter years of experience: \"))\n",
    "age = int(input(\"Enter age: \"))\n",
    "\n",
    "# Calculate and display ATR\n",
    "atr = calculate_atr(experience, age)\n",
    "print(f\"The Annual Tax Revenue (ATR) is: N{atr:,}\")"
   ]
  },
  {
   "cell_type": "code",
   "execution_count": null,
   "id": "a015035c-634d-465f-80ea-953e14d02ce5",
   "metadata": {},
   "outputs": [],
   "source": []
  }
 ],
 "metadata": {
  "kernelspec": {
   "display_name": "Python [conda env:base] *",
   "language": "python",
   "name": "conda-base-py"
  },
  "language_info": {
   "codemirror_mode": {
    "name": "ipython",
    "version": 3
   },
   "file_extension": ".py",
   "mimetype": "text/x-python",
   "name": "python",
   "nbconvert_exporter": "python",
   "pygments_lexer": "ipython3",
   "version": "3.12.7"
  }
 },
 "nbformat": 4,
 "nbformat_minor": 5
}
