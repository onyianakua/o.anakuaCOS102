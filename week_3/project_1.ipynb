{
 "cells": [
  {
   "cell_type": "code",
   "execution_count": 4,
   "id": "59fb4e8c-e07f-437c-b3cb-6195aec536fc",
   "metadata": {},
   "outputs": [
    {
     "name": "stdout",
     "output_type": "stream",
     "text": [
      "\n",
      "BOY STUDENTS\n",
      "Name      \tAge\tHeight\tScore\n",
      "----------------------------------------\n",
      "Chinedu   \t19 \t5.7   \t74\n",
      "Liam      \t16 \t5.9   \t87\n",
      "Wale      \t18 \t5.8   \t75\n",
      "Gbenga    \t17 \t6.1   \t68\n",
      "Abiola    \t20 \t5.9   \t66\n",
      "Kola      \t19 \t5.5   \t78\n",
      "Kunle     \t16 \t6.1   \t87\n",
      "George    \t18 \t5.4   \t98\n",
      "Thomas    \t17 \t5.8   \t54\n",
      "Wesley    \t19 \t5.7   \t60\n",
      "\n",
      "GIRL STUDENTS\n",
      "Name      \tAge\tHeight\tScore\n",
      "----------------------------------------\n",
      "Jessica   \t17 \t5.5   \t80\n",
      "Somto     \t16 \t6.0   \t85\n",
      "Edith     \t17 \t5.4   \t70\n",
      "Liza      \t18 \t5.9   \t60\n",
      "Madonna   \t16 \t5.6   \t76\n",
      "Waje      \t18 \t5.5   \t66\n",
      "Tola      \t17 \t5.6   \t87\n",
      "Aisha     \t20 \t5.6   \t95\n",
      "Latifaa   \t19 \t5.5   \t50\n",
      "Peace     \t17 \t5.5   \t49\n"
     ]
    }
   ],
   "source": [
    "def display_students(names, ages, heights, scores, gender):\n",
    "    print(f\"\\n{gender.upper()} STUDENTS\")\n",
    "    print(f\"{'Name':<10}\\t{'Age':<3}\\t{'Height':<6}\\t{'Score'}\")\n",
    "    print(\"-\" * 40)\n",
    "    for i in range(len(names)):\n",
    "        print(f\"{names[i]:<10}\\t{ages[i]:<3}\\t{heights[i]:<6}\\t{scores[i]}\")\n",
    "\n",
    "# Girls' data\n",
    "namesGirl = [\"Jessica\", \"Somto\", \"Edith\", \"Liza\", \"Madonna\", \"Waje\", \"Tola\", \"Aisha\", \"Latifaa\", \"Peace\"]\n",
    "ageGirl = [17, 16, 17, 18, 16, 18, 17, 20, 19, 17]\n",
    "heightGirl = [5.5, 6.0, 5.4, 5.9, 5.6, 5.5, 5.6, 5.6, 5.5, 5.5]\n",
    "scoreGirl = [80, 85, 70, 60, 76, 66, 87, 95, 50, 49]\n",
    "\n",
    "# Boys' data\n",
    "namesBoy = ['Chinedu', 'Liam', 'Wale', 'Gbenga', 'Abiola', 'Kola', 'Kunle', 'George', 'Thomas', 'Wesley']\n",
    "ageBoy = [19, 16, 18, 17, 20, 19, 16, 18, 17, 19]\n",
    "heightBoy = [5.7, 5.9, 5.8, 6.1, 5.9, 5.5, 6.1, 5.4, 5.8, 5.7]\n",
    "scoreBoy = [74, 87, 75, 68, 66, 78, 87, 98, 54, 60]\n",
    "\n",
    "# Display tables\n",
    "display_students(namesBoy, ageBoy, heightBoy, scoreBoy, \"Boy\")\n",
    "display_students(namesGirl, ageGirl, heightGirl, scoreGirl, \"Girl\")\n"
   ]
  },
  {
   "cell_type": "code",
   "execution_count": null,
   "id": "8f8b4273-a10f-4742-b6f2-9b57f18e22ea",
   "metadata": {},
   "outputs": [],
   "source": []
  }
 ],
 "metadata": {
  "kernelspec": {
   "display_name": "Python [conda env:base] *",
   "language": "python",
   "name": "conda-base-py"
  },
  "language_info": {
   "codemirror_mode": {
    "name": "ipython",
    "version": 3
   },
   "file_extension": ".py",
   "mimetype": "text/x-python",
   "name": "python",
   "nbconvert_exporter": "python",
   "pygments_lexer": "ipython3",
   "version": "3.12.7"
  }
 },
 "nbformat": 4,
 "nbformat_minor": 5
}
